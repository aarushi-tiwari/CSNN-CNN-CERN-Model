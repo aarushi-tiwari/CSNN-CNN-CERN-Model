{
  "cells": [
    {
      "cell_type": "code",
      "execution_count": 2,
      "id": "11a7c24d",
      "metadata": {
        "id": "11a7c24d"
      },
      "outputs": [],
      "source": [
        "import tensorflow as tf\n",
        "\n",
        "from __future__ import absolute_import, division, print_function, unicode_literals\n",
        "from tensorflow.keras.preprocessing import image\n",
        "from tensorflow.keras.optimizers import RMSprop\n",
        "from tensorflow.keras.models import Sequential\n",
        "from tensorflow.keras.layers import Dense, Conv2D, Flatten, Dropout, MaxPooling2D\n",
        "from tensorflow.keras.preprocessing.image import ImageDataGenerator\n",
        "#import cv2\n",
        "import os\n",
        "import numpy as np\n",
        "import matplotlib.pyplot as plt"
      ]
    },
    {
      "cell_type": "code",
      "source": [
        "from google.colab import drive\n",
        "drive.mount('/content/drive')"
      ],
      "metadata": {
        "colab": {
          "base_uri": "https://localhost:8080/"
        },
        "id": "6EQaqdKRJP4b",
        "outputId": "04722997-80d7-434a-a721-5a79b004df61"
      },
      "id": "6EQaqdKRJP4b",
      "execution_count": 34,
      "outputs": [
        {
          "output_type": "stream",
          "name": "stdout",
          "text": [
            "Drive already mounted at /content/drive; to attempt to forcibly remount, call drive.mount(\"/content/drive\", force_remount=True).\n"
          ]
        }
      ]
    },
    {
      "cell_type": "code",
      "source": [
        "#book\n",
        "class1_data = []\n",
        "#apple\n",
        "class2_data = []\n",
        "with open('/content/drive/MyDrive/CERN ONN/chirp2.npy', \"rb\") as file:\n",
        "    class1_data = np.load(file);\n",
        "    class1_data = class1_data\n",
        "    print(len(class1_data))\n",
        "\n",
        "with open('/content/drive/MyDrive/CERN ONN/whistle_feb_20.npy', \"rb\") as file2:\n",
        "    class2_data = np.load(file2);\n",
        "    class2_data = class2_data[:240]\n",
        "    print(len(class2_data))"
      ],
      "metadata": {
        "colab": {
          "base_uri": "https://localhost:8080/"
        },
        "id": "2tE0LNKAJG2z",
        "outputId": "b247b23c-9c31-4964-a9e3-0e79de2d3063"
      },
      "id": "2tE0LNKAJG2z",
      "execution_count": 35,
      "outputs": [
        {
          "output_type": "stream",
          "name": "stdout",
          "text": [
            "240\n",
            "240\n"
          ]
        }
      ]
    },
    {
      "cell_type": "code",
      "source": [
        "class1_labels = np.zeros(len(class1_data))\n",
        "class2_labels = np.ones(len(class2_data))"
      ],
      "metadata": {
        "id": "e3h69nuQRnsy"
      },
      "id": "e3h69nuQRnsy",
      "execution_count": 36,
      "outputs": []
    },
    {
      "cell_type": "code",
      "source": [
        "# Combine data and labels\n",
        "X = np.concatenate((class1_data, class2_data), axis=0)\n",
        "y = np.concatenate((class1_labels, class2_labels), axis=0)"
      ],
      "metadata": {
        "id": "u_488_k5Rpr9"
      },
      "id": "u_488_k5Rpr9",
      "execution_count": 37,
      "outputs": []
    },
    {
      "cell_type": "code",
      "source": [
        "\n",
        "from sklearn.utils import shuffle\n",
        "X, y = shuffle(X, y, random_state=42)"
      ],
      "metadata": {
        "id": "NtkVGY0GRr4v"
      },
      "id": "NtkVGY0GRr4v",
      "execution_count": 38,
      "outputs": []
    },
    {
      "cell_type": "code",
      "execution_count": 39,
      "id": "09e8e2fa",
      "metadata": {
        "id": "09e8e2fa"
      },
      "outputs": [],
      "source": [
        "from sklearn.model_selection import train_test_split\n",
        "\n",
        "X_train, X_test, y_train, y_test = train_test_split(X, y, test_size=0.1, random_state=42)\n",
        "\n"
      ]
    },
    {
      "cell_type": "code",
      "execution_count": 40,
      "id": "915333ee",
      "metadata": {
        "id": "915333ee"
      },
      "outputs": [],
      "source": [
        "X_train = X_train / 255.0\n",
        "X_test = X_test / 255.0\n",
        "\n",
        "X_train = X_train.reshape(-1, 200, 200, 1)  # Add the channel dimension (1 for grayscale)\n",
        "X_test = X_test.reshape(-1, 200, 200, 1)\n"
      ]
    },
    {
      "cell_type": "code",
      "execution_count": 41,
      "id": "ccfe310c",
      "metadata": {
        "id": "ccfe310c"
      },
      "outputs": [],
      "source": [
        "from tensorflow import keras\n",
        "\n",
        "model = keras.models.Sequential([\n",
        "    keras.layers.Conv2D(1, (10,10), activation='relu', input_shape=(200,200,1)),\n",
        "    keras.layers.MaxPooling2D(3,3),\n",
        "#     keras.layers.Conv2D(1, (10,10), activation='relu'),\n",
        "#     keras.layers.MaxPooling2D(3,3),\n",
        "#     keras.layers.Conv2D(1, (10,10), activation='relu'),\n",
        "#     keras.layers.MaxPooling2D(3,3),\n",
        "    keras.layers.Flatten(),\n",
        "    keras.layers.Dense(16, activation='relu'),\n",
        "    keras.layers.Dense(1, activation='sigmoid')\n",
        "])\n",
        "\n",
        "from tensorflow.keras.optimizers import RMSprop\n",
        "\n",
        "\n",
        "# keras.applications.DenseNet121(\n",
        "#     include_top= False,\n",
        "#     weights= None,\n",
        "#     input_tensor=None,\n",
        "#     input_shape=(150,94),\n",
        "#     pooling = avg,\n",
        "#     classes=2,\n",
        "#     classifier_activation=\"sigmoid\",\n",
        "# )"
      ]
    },
    {
      "cell_type": "code",
      "execution_count": 42,
      "id": "4f55f108",
      "metadata": {
        "id": "4f55f108"
      },
      "outputs": [],
      "source": [
        "model.compile(loss='binary_crossentropy',\n",
        "             optimizer=RMSprop(learning_rate=0.0001),\n",
        "             metrics=['acc'])"
      ]
    },
    {
      "cell_type": "code",
      "execution_count": 43,
      "id": "f99a6494",
      "metadata": {
        "colab": {
          "base_uri": "https://localhost:8080/"
        },
        "id": "f99a6494",
        "outputId": "6714448b-5de1-4052-cca8-9658827a15b0"
      },
      "outputs": [
        {
          "output_type": "stream",
          "name": "stdout",
          "text": [
            "Epoch 1/10\n",
            "432/432 [==============================] - 28s 63ms/step - loss: 0.4005 - acc: 0.8657 - val_loss: 0.1420 - val_acc: 1.0000\n",
            "Epoch 2/10\n",
            "432/432 [==============================] - 21s 49ms/step - loss: 0.0706 - acc: 0.9884 - val_loss: 0.0298 - val_acc: 1.0000\n",
            "Epoch 3/10\n",
            "432/432 [==============================] - 23s 54ms/step - loss: 0.0324 - acc: 0.9954 - val_loss: 0.0192 - val_acc: 1.0000\n",
            "Epoch 4/10\n",
            "432/432 [==============================] - 23s 53ms/step - loss: 0.0161 - acc: 0.9977 - val_loss: 0.0147 - val_acc: 1.0000\n",
            "Epoch 5/10\n",
            "432/432 [==============================] - 26s 60ms/step - loss: 0.0174 - acc: 0.9954 - val_loss: 0.0106 - val_acc: 1.0000\n",
            "Epoch 6/10\n",
            "432/432 [==============================] - 21s 48ms/step - loss: 0.0116 - acc: 0.9954 - val_loss: 0.0117 - val_acc: 1.0000\n",
            "Epoch 7/10\n",
            "432/432 [==============================] - 22s 51ms/step - loss: 0.0123 - acc: 0.9977 - val_loss: 0.0093 - val_acc: 1.0000\n",
            "Epoch 8/10\n",
            "432/432 [==============================] - 21s 49ms/step - loss: 0.0071 - acc: 0.9977 - val_loss: 0.0093 - val_acc: 1.0000\n",
            "Epoch 9/10\n",
            "432/432 [==============================] - 23s 54ms/step - loss: 0.0072 - acc: 1.0000 - val_loss: 0.0089 - val_acc: 1.0000\n",
            "Epoch 10/10\n",
            "432/432 [==============================] - 21s 50ms/step - loss: 0.0052 - acc: 1.0000 - val_loss: 0.0108 - val_acc: 1.0000\n"
          ]
        }
      ],
      "source": [
        "batch_size = 1\n",
        "num_classes = 1\n",
        "epochs = 10\n",
        "history = model.fit(X_train, y_train.reshape(432,1),\n",
        "              batch_size=batch_size,\n",
        "              epochs=epochs,\n",
        "              verbose=1,\n",
        "              validation_data=(X_test, y_test))"
      ]
    },
    {
      "cell_type": "code",
      "source": [
        "import keras\n",
        "from matplotlib import pyplot as plt\n",
        "print(history.history.keys())\n",
        "# summarize history for accuracy\n",
        "plt.plot(history.history['acc'])\n",
        "plt.plot(history.history['val_acc'])\n",
        "plt.title('model accuracy')\n",
        "plt.ylabel('accuracy')\n",
        "plt.xlabel('epoch')\n",
        "plt.legend(['train', 'test'], loc='upper left')\n",
        "plt.show()\n",
        "# summarize history for loss\n",
        "plt.plot(history.history['loss'])\n",
        "plt.plot(history.history['val_loss'])\n",
        "plt.title('model loss')\n",
        "plt.ylabel('loss')\n",
        "plt.xlabel('epoch')\n",
        "plt.legend(['train', 'test'], loc='upper left')\n",
        "plt.show()"
      ],
      "metadata": {
        "colab": {
          "base_uri": "https://localhost:8080/",
          "height": 944
        },
        "id": "pKLjHNOn9ogf",
        "outputId": "3a08a358-23d1-432f-fba5-3d3767753791"
      },
      "id": "pKLjHNOn9ogf",
      "execution_count": 64,
      "outputs": [
        {
          "output_type": "stream",
          "name": "stdout",
          "text": [
            "dict_keys(['loss', 'acc', 'val_loss', 'val_acc'])\n"
          ]
        },
        {
          "output_type": "display_data",
          "data": {
            "text/plain": [
              "<Figure size 640x480 with 1 Axes>"
            ],
            "image/png": "[encoded data removed]"
          },
          "metadata": {}
        },
        {
          "output_type": "display_data",
          "data": {
            "text/plain": [
              "<Figure size 640x480 with 1 Axes>"
            ],
            "image/png": "[encoded data removed]"
          },
          "metadata": {}
        }
      ]
    },
    {
      "cell_type": "code",
      "execution_count": null,
      "id": "3c2a9468",
      "metadata": {
        "colab": {
          "base_uri": "https://localhost:8080/"
        },
        "id": "3c2a9468",
        "outputId": "358f1aa9-e1f1-43bb-daa7-210f73e84ed8"
      },
      "outputs": [
        {
          "output_type": "stream",
          "name": "stdout",
          "text": [
            "Model: \"sequential_2\"\n",
            "_________________________________________________________________\n",
            " Layer (type)                Output Shape              Param #   \n",
            "=================================================================\n",
            " conv2d_2 (Conv2D)           (None, 191, 191, 1)       101       \n",
            "                                                                 \n",
            " max_pooling2d_2 (MaxPoolin  (None, 63, 63, 1)         0         \n",
            " g2D)                                                            \n",
            "                                                                 \n",
            " flatten_2 (Flatten)         (None, 3969)              0         \n",
            "                                                                 \n",
            " dense_4 (Dense)             (None, 16)                63520     \n",
            "                                                                 \n",
            " dense_5 (Dense)             (None, 1)                 17        \n",
            "                                                                 \n",
            "=================================================================\n",
            "Total params: 63638 (248.59 KB)\n",
            "Trainable params: 63638 (248.59 KB)\n",
            "Non-trainable params: 0 (0.00 Byte)\n",
            "_________________________________________________________________\n"
          ]
        }
      ],
      "source": [
        "model.summary()"
      ]
    },
    {
      "cell_type": "code",
      "execution_count": 46,
      "id": "cd30ebce",
      "metadata": {
        "colab": {
          "base_uri": "https://localhost:8080/"
        },
        "id": "cd30ebce",
        "outputId": "2cd848b1-8b58-4dd7-c2ae-815985ef29b5"
      },
      "outputs": [
        {
          "output_type": "stream",
          "name": "stdout",
          "text": [
            "2/2 [==============================] - 1s 142ms/step - loss: 0.0108 - acc: 1.0000\n",
            "Test Loss: 0.0108\n",
            "Test Accuracy: 100.00%\n"
          ]
        }
      ],
      "source": [
        "test_loss, test_accuracy = model.evaluate(X_test, y_test)\n",
        "print(f'Test Loss: {test_loss:.4f}')\n",
        "print(f'Test Accuracy: {test_accuracy * 100:.2f}%')"
      ]
    },
    {
      "cell_type": "code",
      "execution_count": 47,
      "id": "50b298a7",
      "metadata": {
        "id": "50b298a7"
      },
      "outputs": [],
      "source": [
        "import numpy as np\n",
        "from tensorflow.keras import metrics\n",
        "from tensorflow.keras import backend as K\n",
        "from tensorflow.keras.models import load_model\n",
        "import tensorflow as tf"
      ]
    },
    {
      "cell_type": "code",
      "execution_count": 48,
      "id": "30a3d22d",
      "metadata": {
        "id": "30a3d22d"
      },
      "outputs": [],
      "source": [
        "weights = model.get_weights()"
      ]
    },
    {
      "cell_type": "code",
      "execution_count": 49,
      "id": "d672e4e9",
      "metadata": {
        "id": "d672e4e9"
      },
      "outputs": [],
      "source": [
        "def zero_pad(img, pad):\n",
        "\n",
        "    img_pad = np.pad(img, ((0,0), (pad, pad), (pad, pad), (0,0)), 'constant', constant_values = 0)\n",
        "    return img_pad"
      ]
    },
    {
      "cell_type": "code",
      "execution_count": 50,
      "id": "337b39a0",
      "metadata": {
        "id": "337b39a0"
      },
      "outputs": [],
      "source": [
        "def conv_single_step(a_slice_prev, W, b):\n",
        "\n",
        "    s = np.sum(np.multiply(a_slice_prev, W)) + float(b)\n",
        "    return s"
      ]
    },
    {
      "cell_type": "code",
      "execution_count": 51,
      "id": "2f0288ec",
      "metadata": {
        "id": "2f0288ec"
      },
      "outputs": [],
      "source": [
        "def pool_forward(A_prev, hparameters, mode = \"max\"):\n",
        "\n",
        "    (m, n_H_prev, n_W_prev, n_C_prev) = A_prev.shape\n",
        "\n",
        "    f = hparameters[\"f\"]\n",
        "    stride = hparameters[\"stride\"]\n",
        "\n",
        "    n_H = int(1 + (n_H_prev - f) / stride)\n",
        "    n_W = int(1 + (n_W_prev - f) / stride)\n",
        "    n_C = n_C_prev\n",
        "\n",
        "    A = np.zeros((m, n_H, n_W, n_C))\n",
        "\n",
        "    for i in range(m):\n",
        "        for h in range(n_H):\n",
        "            for w in range(n_W):\n",
        "                for c in range (n_C):\n",
        "\n",
        "                    vert_start = h * stride\n",
        "                    vert_end = vert_start + f\n",
        "                    horiz_start = w * stride\n",
        "                    horiz_end = horiz_start + f\n",
        "\n",
        "                    a_prev_slice = A_prev[i,vert_start:vert_end,horiz_start:horiz_end,c]\n",
        "                    if mode == \"max\":\n",
        "                        A[i, h, w, c] = np.max(a_prev_slice)\n",
        "                    elif mode == \"average\":\n",
        "                        A[i, h, w, c] = np.mean(a_prev_slice)\n",
        "\n",
        "    cache = (A_prev, hparameters)\n",
        "\n",
        "    assert(A.shape == (m, n_H, n_W, n_C))\n",
        "\n",
        "    return A, cache"
      ]
    },
    {
      "cell_type": "code",
      "execution_count": 52,
      "id": "00dd246d",
      "metadata": {
        "id": "00dd246d"
      },
      "outputs": [],
      "source": [
        "def relu(X):\n",
        "   return np.maximum(0,X)\n",
        "def sigmoid(X):\n",
        "   return 1/(1+np.exp(-X))"
      ]
    },
    {
      "cell_type": "code",
      "execution_count": 53,
      "id": "699bdb69",
      "metadata": {
        "colab": {
          "base_uri": "https://localhost:8080/"
        },
        "id": "699bdb69",
        "outputId": "9192292a-0dfe-4804-b8e3-20c52406041a"
      },
      "outputs": [
        {
          "output_type": "stream",
          "name": "stdout",
          "text": [
            "(10, 10, 1, 1)\n"
          ]
        }
      ],
      "source": [
        "print(np.array(weights[0]).shape)"
      ]
    },
    {
      "cell_type": "code",
      "execution_count": 54,
      "id": "5230d70c",
      "metadata": {
        "id": "5230d70c"
      },
      "outputs": [],
      "source": [
        "def fft_forward(img,w, b, hparameters1):\n",
        "\n",
        "    l = img.shape[1]\n",
        "#     print(l)\n",
        "    pa = (l - 10) // 2\n",
        "    f2 = np.pad(w.reshape(10,10), (pa,pa))\n",
        "    img = img.reshape(l,l)\n",
        "\n",
        "    if l % 2 == 0:\n",
        "        l = l-1\n",
        "        img = img[:l,:l]\n",
        "        f2 = f2[:l,:l]\n",
        "\n",
        "        f = np.fft.fft2(img)\n",
        "\n",
        "        f21 = np.fft.fft2(f2)\n",
        "\n",
        "#         l2 = len(f)\n",
        "#         l3 = len(f21)\n",
        "\n",
        "#         f = reshape_spectrogram_to_square(f, max(l2,l3))\n",
        "#         f21 = reshape_spectrogram_to_square(f21, max(l2,l3))\n",
        "\n",
        "        aaa = f * f21\n",
        "        final = np.fft.ifft2(aaa)\n",
        "#         print(l)\n",
        "#         print(final.shape)\n",
        "        zeros = np.zeros((l,l))\n",
        "        zeros[1:l // 2+1,1:l // 2+1] = final.real[l // 2+1:,l // 2+1:]\n",
        "        zeros[1:l // 2+1,l // 2+1:] = final.real[l // 2+1:,1:l // 2+1]\n",
        "        zeros[l // 2+1:,1:l // 2+1] = final.real[1:l // 2+1,l // 2+1:]\n",
        "        zeros[l // 2+1:,l // 2+1:] = final.real[1:l // 2+1,1:l // 2+1]\n",
        "\n",
        "        zeros = zeros[1:l,1:l] + b\n",
        "\n",
        "    else:\n",
        "        f = np.fft.fft2(img)\n",
        "        f21 = np.fft.fft2(f2)\n",
        "        aaa = f * f21\n",
        "        final = np.fft.ifft2(aaa)\n",
        "\n",
        "        zeros = np.zeros((l,l))\n",
        "        zeros[1:l // 2+1,1:l // 2+1] = final.real[l // 2+1:,l // 2+1:]\n",
        "        zeros[1:l // 2+1,l // 2+1:] = final.real[l // 2+1:,1:l // 2+1]\n",
        "        zeros[l // 2+1:,1:l // 2+1] = final.real[1:l // 2+1,l // 2+1:]\n",
        "        zeros[l // 2+1:,l // 2+1:] = final.real[1:l // 2+1,1:l // 2+1]\n",
        "\n",
        "        zeros = zeros[1:l-1,1:l-1] + b\n",
        "    return zeros"
      ]
    },
    {
      "cell_type": "code",
      "execution_count": 55,
      "id": "9867f905",
      "metadata": {
        "id": "9867f905"
      },
      "outputs": [],
      "source": [
        "def fft_model(img, weights, hparameters1, hparameters2):\n",
        "    fft = relu(fft_forward(img, weights[0], weights[1], hparameters1))\n",
        "    print(np.array(fft).shape)\n",
        "    pool2 = pool_forward(fft.reshape(1,148,148,1), hparameters2)[0]\n",
        "    print(np.array(pool2).shape)\n",
        "\n",
        "#     print(pool2.shape)\n",
        "#     fft1 = relu(fft_forward(pool, weights[2], weights[3], hparameters1))\n",
        "#     pool1 = pool_forward(fft1.reshape(1,fft1.shape[1],fft1.shape[1],1), hparameters2)[0]\n",
        "#     fft2 = relu(fft_forward(pool1, weights[4], weights[5], hparameters1))\n",
        "#     pool2 = pool_forward(fft2.reshape(1,fft2.shape[1],fft2.shape[1],1), hparameters2)[0]\n",
        "\n",
        "    flatten = pool2.reshape(1,pool2.shape[1]*pool2.shape[2]*pool2.shape[3])\n",
        "    print(np.array(flatten).shape)\n",
        "\n",
        "#     pool2.shape[1]*pool2.shape[2]*pool2.shape[3]\n",
        "#     print(pool2.shape[3])\n",
        "#     print(np.array(weights[2]).shape)\n",
        "#     print(np.array(weights[3]).shape)\n",
        "#     print(np.array(flatten).shape)\n",
        "#     print(np.dot(flatten, weights[2]).shape)\n",
        "    neural_net = relu(np.dot(flatten, weights[2]) + weights[3])\n",
        "\n",
        "    ans = sigmoid(np.dot(neural_net, weights[4]) + weights[5])\n",
        "\n",
        "#     tup = (ans, fft, pool, fft1, pool1, fft2, pool2)\n",
        "    tup = ans\n",
        "    return tup"
      ]
    },
    {
      "cell_type": "code",
      "execution_count": 56,
      "id": "49995763",
      "metadata": {
        "id": "49995763"
      },
      "outputs": [],
      "source": [
        "def extract_layers(main_model, starting_layer_ix, ending_layer_ix):\n",
        "  # create an empty model\n",
        "  new_model = Sequential()\n",
        "  for ix in range(starting_layer_ix, ending_layer_ix + 1):\n",
        "    curr_layer = main_model.get_layer(index=ix)\n",
        "    # copy this layer over to the new model\n",
        "    new_model.add(curr_layer)\n",
        "  return new_model\n",
        "\n",
        "new_model = extract_layers(model, 1, 4)"
      ]
    },
    {
      "cell_type": "code",
      "execution_count": 57,
      "id": "60f5d33a",
      "metadata": {
        "id": "60f5d33a"
      },
      "outputs": [],
      "source": [
        "def new_fft_model(img, weights, hparameters1, hparameters2):\n",
        "    fft = relu(fft_forward(img, weights[0], weights[1], hparameters1))\n",
        "    print(np.array(fft).shape)\n",
        "    fft = fft[4:195, 4:195]\n",
        "    print(fft.shape)\n",
        "    tup = new_model.predict(fft.reshape(1,191,191,1))\n",
        "\n",
        "    return tup"
      ]
    },
    {
      "cell_type": "code",
      "execution_count": 58,
      "id": "9a2ff3b5",
      "metadata": {
        "colab": {
          "base_uri": "https://localhost:8080/"
        },
        "id": "9a2ff3b5",
        "outputId": "7097bc69-b16e-469b-87a5-0c29f74f249b"
      },
      "outputs": [
        {
          "output_type": "stream",
          "name": "stdout",
          "text": [
            "<class 'list'>\n"
          ]
        }
      ],
      "source": [
        "hparameters1 = {\n",
        "    'stride':1,\n",
        "    'pad':0\n",
        "}\n",
        "hparameters2 = {\n",
        "    'stride':2,\n",
        "    'f':2\n",
        "}\n",
        "weights = model.get_weights()\n",
        "print(type(weights))"
      ]
    },
    {
      "cell_type": "code",
      "execution_count": null,
      "id": "c1b62f61",
      "metadata": {
        "id": "c1b62f61"
      },
      "outputs": [],
      "source": [
        "# fft_out = []\n",
        "# count = 0\n",
        "# for i in range(len(X_test)):\n",
        "#   img = cv2.resize(X_test[i],(28,28)).reshape(1,28,28,1)\n",
        "#   output1 = fft_model(img, weights, hparameters1, hparameters2)\n",
        "#   # print(output1[0])\n",
        "#   if output1[0] >= 0.5:\n",
        "#     pred = 1\n",
        "#   else:\n",
        "#     pred = 0\n",
        "#   if pred == y_test[i]:\n",
        "#       count +=1\n",
        "# print(count/len(X_test))\n",
        "\n",
        "\n",
        "# end = time.time()\n",
        "# print('Time taken by FFT to predict class for 253 images is', end - start)"
      ]
    },
    {
      "cell_type": "code",
      "execution_count": null,
      "id": "48c829f7",
      "metadata": {
        "id": "48c829f7",
        "outputId": "317465ef-1b8b-4ad5-fe79-4c8184e9112b"
      },
      "outputs": [
        {
          "name": "stdout",
          "output_type": "stream",
          "text": [
            "(200, 150, 150, 1)\n"
          ]
        }
      ],
      "source": [
        "print(X_test.shape)"
      ]
    },
    {
      "cell_type": "code",
      "execution_count": null,
      "id": "727b752d",
      "metadata": {
        "id": "727b752d",
        "outputId": "293641fa-20d3-4bc7-a635-338667714d95"
      },
      "outputs": [
        {
          "ename": "ValueError",
          "evalue": "setting an array element with a sequence. The requested array has an inhomogeneous shape after 1 dimensions. The detected shape was (6,) + inhomogeneous part.",
          "output_type": "error",
          "traceback": [
            "\u001b[1;31m---------------------------------------------------------------------------\u001b[0m",
            "\u001b[1;31mValueError\u001b[0m                                Traceback (most recent call last)",
            "Cell \u001b[1;32mIn[154], line 1\u001b[0m\n\u001b[1;32m----> 1\u001b[0m \u001b[38;5;28mprint\u001b[39m(np\u001b[38;5;241m.\u001b[39marray(weights)\u001b[38;5;241m.\u001b[39mshape)\n",
            "\u001b[1;31mValueError\u001b[0m: setting an array element with a sequence. The requested array has an inhomogeneous shape after 1 dimensions. The detected shape was (6,) + inhomogeneous part."
          ]
        }
      ],
      "source": [
        "print(np.array(weights).shape)"
      ]
    },
    {
      "cell_type": "code",
      "execution_count": null,
      "id": "5a032d0b",
      "metadata": {
        "id": "5a032d0b",
        "outputId": "19d238c3-8c05-40f4-dd98-7c4f9e731982"
      },
      "outputs": [
        {
          "ename": "NameError",
          "evalue": "name 'output1' is not defined",
          "output_type": "error",
          "traceback": [
            "\u001b[1;31m---------------------------------------------------------------------------\u001b[0m",
            "\u001b[1;31mNameError\u001b[0m                                 Traceback (most recent call last)",
            "Cell \u001b[1;32mIn[247], line 17\u001b[0m\n\u001b[0;32m     12\u001b[0m     img \u001b[38;5;241m=\u001b[39m np\u001b[38;5;241m.\u001b[39marray(img_pil)\u001b[38;5;241m.\u001b[39mreshape(\u001b[38;5;241m1\u001b[39m, \u001b[38;5;241m150\u001b[39m, \u001b[38;5;241m150\u001b[39m, \u001b[38;5;241m1\u001b[39m)\n\u001b[0;32m     14\u001b[0m \u001b[38;5;66;03m#     output1 = fft_model(img, weights, hparameters1, hparameters2)\u001b[39;00m\n\u001b[1;32m---> 17\u001b[0m     \u001b[38;5;28;01mif\u001b[39;00m output1[\u001b[38;5;241m0\u001b[39m] \u001b[38;5;241m>\u001b[39m\u001b[38;5;241m=\u001b[39m \u001b[38;5;241m0.5\u001b[39m:\n\u001b[0;32m     18\u001b[0m         pred \u001b[38;5;241m=\u001b[39m \u001b[38;5;241m1\u001b[39m \n\u001b[0;32m     19\u001b[0m     \u001b[38;5;28;01melse\u001b[39;00m:\n",
            "\u001b[1;31mNameError\u001b[0m: name 'output1' is not defined"
          ]
        }
      ],
      "source": [
        "from PIL import Image\n",
        "\n",
        "# Assuming X_test contains images\n",
        "fft_out = []\n",
        "count = 0\n",
        "for i in range(len(X_test)):\n",
        "    # Resize image using PIL\n",
        "    img_pil = Image.fromarray(X_test[i,:,:,0])\n",
        "    img_pil = img_pil.resize((150, 150))\n",
        "\n",
        "    # Convert resized image to numpy array and reshape\n",
        "    img = np.array(img_pil).reshape(1, 150, 150, 1)\n",
        "\n",
        "#     output1 = fft_model(img, weights, hparameters1, hparameters2)\n",
        "\n",
        "\n",
        "    if output1[0] >= 0.5:\n",
        "        pred = 1\n",
        "    else:\n",
        "        pred = 0\n",
        "    if pred == y_test[i]:\n",
        "        count += 1\n",
        "\n",
        "print(count/len(X_test))"
      ]
    },
    {
      "cell_type": "code",
      "execution_count": null,
      "id": "21b57a0f",
      "metadata": {
        "id": "21b57a0f",
        "outputId": "ffcaec6d-a26e-4b5b-a5b6-75e4f703c877"
      },
      "outputs": [
        {
          "name": "stdout",
          "output_type": "stream",
          "text": [
            "16\n"
          ]
        }
      ],
      "source": [
        "print(len(weights[3]))"
      ]
    },
    {
      "cell_type": "markdown",
      "id": "acb76433",
      "metadata": {
        "id": "acb76433"
      },
      "source": [
        "# Evaluating with extracted model"
      ]
    },
    {
      "cell_type": "code",
      "execution_count": 59,
      "id": "f3d66389",
      "metadata": {
        "colab": {
          "base_uri": "https://localhost:8080/"
        },
        "id": "f3d66389",
        "outputId": "c9212a35-d39b-49b7-d092-577612303f46"
      },
      "outputs": [
        {
          "output_type": "stream",
          "name": "stdout",
          "text": [
            "(198, 198)\n",
            "(191, 191)\n",
            "1/1 [==============================] - 0s 78ms/step\n",
            "(198, 198)\n",
            "(191, 191)\n",
            "1/1 [==============================] - 0s 40ms/step\n",
            "(198, 198)\n",
            "(191, 191)\n",
            "1/1 [==============================] - 0s 24ms/step\n",
            "(198, 198)\n",
            "(191, 191)\n",
            "1/1 [==============================] - 0s 23ms/step\n",
            "(198, 198)\n",
            "(191, 191)\n",
            "1/1 [==============================] - 0s 41ms/step\n",
            "(198, 198)\n",
            "(191, 191)\n",
            "1/1 [==============================] - 0s 20ms/step\n",
            "(198, 198)\n",
            "(191, 191)\n",
            "1/1 [==============================] - 0s 30ms/step\n",
            "(198, 198)\n",
            "(191, 191)\n",
            "1/1 [==============================] - 0s 23ms/step\n",
            "(198, 198)\n",
            "(191, 191)\n",
            "1/1 [==============================] - 0s 23ms/step\n",
            "(198, 198)\n",
            "(191, 191)\n",
            "1/1 [==============================] - 0s 22ms/step\n",
            "(198, 198)\n",
            "(191, 191)\n",
            "1/1 [==============================] - 0s 24ms/step\n",
            "(198, 198)\n",
            "(191, 191)\n",
            "1/1 [==============================] - 0s 23ms/step\n",
            "(198, 198)\n",
            "(191, 191)\n",
            "1/1 [==============================] - 0s 23ms/step\n",
            "(198, 198)\n",
            "(191, 191)\n",
            "1/1 [==============================] - 0s 22ms/step\n",
            "(198, 198)\n",
            "(191, 191)\n",
            "1/1 [==============================] - 0s 24ms/step\n",
            "(198, 198)\n",
            "(191, 191)\n",
            "1/1 [==============================] - 0s 20ms/step\n",
            "(198, 198)\n",
            "(191, 191)\n",
            "1/1 [==============================] - 0s 21ms/step\n",
            "(198, 198)\n",
            "(191, 191)\n",
            "1/1 [==============================] - 0s 23ms/step\n",
            "(198, 198)\n",
            "(191, 191)\n",
            "1/1 [==============================] - 0s 21ms/step\n",
            "(198, 198)\n",
            "(191, 191)\n",
            "1/1 [==============================] - 0s 20ms/step\n",
            "(198, 198)\n",
            "(191, 191)\n",
            "1/1 [==============================] - 0s 28ms/step\n",
            "(198, 198)\n",
            "(191, 191)\n",
            "1/1 [==============================] - 0s 23ms/step\n",
            "(198, 198)\n",
            "(191, 191)\n",
            "1/1 [==============================] - 0s 24ms/step\n",
            "(198, 198)\n",
            "(191, 191)\n",
            "1/1 [==============================] - 0s 20ms/step\n",
            "(198, 198)\n",
            "(191, 191)\n",
            "1/1 [==============================] - 0s 20ms/step\n",
            "(198, 198)\n",
            "(191, 191)\n",
            "1/1 [==============================] - 0s 20ms/step\n",
            "(198, 198)\n",
            "(191, 191)\n",
            "1/1 [==============================] - 0s 20ms/step\n",
            "(198, 198)\n",
            "(191, 191)\n",
            "1/1 [==============================] - 0s 24ms/step\n",
            "(198, 198)\n",
            "(191, 191)\n",
            "1/1 [==============================] - 0s 21ms/step\n",
            "(198, 198)\n",
            "(191, 191)\n",
            "1/1 [==============================] - 0s 22ms/step\n",
            "(198, 198)\n",
            "(191, 191)\n",
            "1/1 [==============================] - 0s 20ms/step\n",
            "(198, 198)\n",
            "(191, 191)\n",
            "1/1 [==============================] - 0s 21ms/step\n",
            "(198, 198)\n",
            "(191, 191)\n",
            "1/1 [==============================] - 0s 23ms/step\n",
            "(198, 198)\n",
            "(191, 191)\n",
            "1/1 [==============================] - 0s 25ms/step\n",
            "(198, 198)\n",
            "(191, 191)\n",
            "1/1 [==============================] - 0s 21ms/step\n",
            "(198, 198)\n",
            "(191, 191)\n",
            "1/1 [==============================] - 0s 25ms/step\n",
            "(198, 198)\n",
            "(191, 191)\n",
            "1/1 [==============================] - 0s 21ms/step\n",
            "(198, 198)\n",
            "(191, 191)\n",
            "1/1 [==============================] - 0s 21ms/step\n",
            "(198, 198)\n",
            "(191, 191)\n",
            "1/1 [==============================] - 0s 22ms/step\n",
            "(198, 198)\n",
            "(191, 191)\n",
            "1/1 [==============================] - 0s 21ms/step\n",
            "(198, 198)\n",
            "(191, 191)\n",
            "1/1 [==============================] - 0s 33ms/step\n",
            "(198, 198)\n",
            "(191, 191)\n",
            "1/1 [==============================] - 0s 33ms/step\n",
            "(198, 198)\n",
            "(191, 191)\n",
            "1/1 [==============================] - 0s 40ms/step\n",
            "(198, 198)\n",
            "(191, 191)\n",
            "1/1 [==============================] - 0s 30ms/step\n",
            "(198, 198)\n",
            "(191, 191)\n",
            "1/1 [==============================] - 0s 32ms/step\n",
            "(198, 198)\n",
            "(191, 191)\n",
            "1/1 [==============================] - 0s 31ms/step\n",
            "(198, 198)\n",
            "(191, 191)\n",
            "1/1 [==============================] - 0s 34ms/step\n",
            "(198, 198)\n",
            "(191, 191)\n",
            "1/1 [==============================] - 0s 33ms/step\n",
            "1.0\n"
          ]
        }
      ],
      "source": [
        "from PIL import Image\n",
        "\n",
        "# Assuming X_test contains images\n",
        "fft_out = []\n",
        "count = 0\n",
        "for i in range(len(X_test)):\n",
        "    # Resize image using PIL\n",
        "    img_pil = Image.fromarray(X_test[i,:,:,0])\n",
        "    img_pil = img_pil.resize((200, 200))\n",
        "\n",
        "    # Convert resized image to numpy array and reshape\n",
        "    img = np.array(img_pil).reshape(1, 200, 200, 1)\n",
        "\n",
        "    output1 = new_fft_model(img, weights, hparameters1, hparameters2)\n",
        "\n",
        "\n",
        "    if output1[0] >= 0.5:\n",
        "        pred = 1\n",
        "        fft_out.append(1)\n",
        "    else:\n",
        "        pred = 0\n",
        "        fft_out.append(0)\n",
        "    if pred == y_test[i]:\n",
        "        count += 1\n",
        "\n",
        "print(count/len(X_test))"
      ]
    },
    {
      "cell_type": "code",
      "source": [
        "from sklearn.metrics import confusion_matrix\n",
        "\n",
        "\n",
        "confusion_matrix(y_test, fft_out)"
      ],
      "metadata": {
        "colab": {
          "base_uri": "https://localhost:8080/"
        },
        "id": "adpiK6wzrnV_",
        "outputId": "dee24941-5f90-4aae-b5fb-5658e3669bfc"
      },
      "id": "adpiK6wzrnV_",
      "execution_count": 60,
      "outputs": [
        {
          "output_type": "execute_result",
          "data": {
            "text/plain": [
              "array([[23,  0],\n",
              "       [ 0, 25]])"
            ]
          },
          "metadata": {},
          "execution_count": 60
        }
      ]
    },
    {
      "cell_type": "code",
      "source": [
        "import numpy as np\n",
        "from sklearn.metrics import precision_score\n",
        "from sklearn.metrics import recall_score\n",
        "\n",
        "recall_score(y_test, fft_out, pos_label=0)"
      ],
      "metadata": {
        "colab": {
          "base_uri": "https://localhost:8080/"
        },
        "id": "fqa4NEoo7exN",
        "outputId": "17601712-2ed8-4159-f4f6-2fdd989450a0"
      },
      "id": "fqa4NEoo7exN",
      "execution_count": 63,
      "outputs": [
        {
          "output_type": "execute_result",
          "data": {
            "text/plain": [
              "1.0"
            ]
          },
          "metadata": {},
          "execution_count": 63
        }
      ]
    },
    {
      "cell_type": "markdown",
      "id": "c6df0e32",
      "metadata": {
        "id": "c6df0e32"
      },
      "source": [
        "# Checking if fet_maps are equal"
      ]
    },
    {
      "cell_type": "code",
      "execution_count": null,
      "id": "1a52bf3a",
      "metadata": {
        "id": "1a52bf3a"
      },
      "outputs": [],
      "source": [
        "img_pil = Image.fromarray(X_test[0,:,:,0])\n",
        "img_pil = img_pil.resize((150, 150))\n",
        "\n",
        "# Convert resized image to numpy array and reshape\n",
        "img = np.array(img_pil).reshape(1, 150, 150, 1)"
      ]
    },
    {
      "cell_type": "code",
      "execution_count": null,
      "id": "71c255e8",
      "metadata": {
        "id": "71c255e8",
        "outputId": "b3912c11-6f86-4eb0-d93f-386ec50a5439"
      },
      "outputs": [
        {
          "data": {
            "text/plain": [
              "<matplotlib.image.AxesImage at 0x220afd31590>"
            ]
          },
          "execution_count": 232,
          "metadata": {},
          "output_type": "execute_result"
        },
        {
          "data": {
            "image/png": "[encoded data removed]",
            "text/plain": [
              "<Figure size 640x480 with 1 Axes>"
            ]
          },
          "metadata": {},
          "output_type": "display_data"
        }
      ],
      "source": [
        "HOC_fet_map = fft_forward(img,weights[0], weights[1], hparameters1)\n",
        "\n",
        "plt.imshow(HOC_fet_map)"
      ]
    },
    {
      "cell_type": "code",
      "execution_count": null,
      "id": "3d044ccd",
      "metadata": {
        "id": "3d044ccd",
        "outputId": "828c9073-819d-4e50-8be3-3e13a4719baa"
      },
      "outputs": [
        {
          "name": "stdout",
          "output_type": "stream",
          "text": [
            "1/1 [==============================] - 0s 395ms/step\n"
          ]
        }
      ],
      "source": [
        "from keras.preprocessing.image import load_img\n",
        "from keras.preprocessing.image import img_to_array\n",
        "from keras.models import Model\n",
        "from matplotlib import pyplot\n",
        "from numpy import expand_dims\n",
        "model_maps = Model(inputs=model.inputs, outputs=model.layers[0].output)\n",
        "\n",
        "Ximage = X_test[0]\n",
        "fet_maps = model_maps.predict(Ximage.reshape(1,150,150,1))"
      ]
    },
    {
      "cell_type": "code",
      "execution_count": null,
      "id": "9c041cd7",
      "metadata": {
        "id": "9c041cd7",
        "outputId": "05b817c8-3ddf-41cc-b258-6d406405f1b6"
      },
      "outputs": [
        {
          "data": {
            "text/plain": [
              "<matplotlib.image.AxesImage at 0x220afc3f550>"
            ]
          },
          "execution_count": 233,
          "metadata": {},
          "output_type": "execute_result"
        },
        {
          "data": {
            "image/png": "[encoded data removed]",
            "text/plain": [
              "<Figure size 640x480 with 1 Axes>"
            ]
          },
          "metadata": {},
          "output_type": "display_data"
        }
      ],
      "source": [
        "plt.imshow(fet_maps[0,:,:,0])"
      ]
    },
    {
      "cell_type": "code",
      "execution_count": null,
      "id": "73e5d2d1",
      "metadata": {
        "id": "73e5d2d1",
        "outputId": "dfaf1526-c0f6-4407-f426-95fcaff36ee5"
      },
      "outputs": [
        {
          "name": "stdout",
          "output_type": "stream",
          "text": [
            "[[0. 0. 0. ... 0. 0. 0.]\n",
            " [0. 0. 0. ... 0. 0. 0.]\n",
            " [0. 0. 0. ... 0. 0. 0.]\n",
            " ...\n",
            " [0. 0. 0. ... 0. 0. 0.]\n",
            " [0. 0. 0. ... 0. 0. 0.]\n",
            " [0. 0. 0. ... 0. 0. 0.]]\n"
          ]
        }
      ],
      "source": [
        "print(fet_maps[0,:,:,0])"
      ]
    },
    {
      "cell_type": "code",
      "execution_count": null,
      "id": "a91a6f1e",
      "metadata": {
        "id": "a91a6f1e"
      },
      "outputs": [],
      "source": [
        "fet_maps1 = fet_maps[0,:,:,0]\n",
        "\n",
        "fet_maps1 = fet_maps1[0:140, 35:120]"
      ]
    },
    {
      "cell_type": "code",
      "execution_count": null,
      "id": "8550b9ea",
      "metadata": {
        "id": "8550b9ea",
        "outputId": "64dca126-886c-4b32-8bb1-d784407a69ca"
      },
      "outputs": [
        {
          "name": "stdout",
          "output_type": "stream",
          "text": [
            "0.004163328539423582\n"
          ]
        }
      ],
      "source": [
        "print(np.sum(fet_maps1)/(140*85))"
      ]
    },
    {
      "cell_type": "code",
      "execution_count": null,
      "id": "0e008ccc",
      "metadata": {
        "id": "0e008ccc",
        "outputId": "232cd67b-c163-48f9-8f26-668b5ff9d940"
      },
      "outputs": [
        {
          "name": "stdout",
          "output_type": "stream",
          "text": [
            "-0.002507958261619644\n"
          ]
        }
      ],
      "source": [
        "print(np.sum(HOC_fet_map[0:140, 35:120])/(140*85))"
      ]
    },
    {
      "cell_type": "code",
      "execution_count": null,
      "id": "c922ba5e",
      "metadata": {
        "id": "c922ba5e",
        "outputId": "be896270-7854-4667-ece5-c4cb0fd4d1bc"
      },
      "outputs": [
        {
          "name": "stdout",
          "output_type": "stream",
          "text": [
            "(140, 85)\n"
          ]
        }
      ],
      "source": [
        "print(fet_maps1.shape)"
      ]
    },
    {
      "cell_type": "code",
      "execution_count": null,
      "id": "e8902748",
      "metadata": {
        "id": "e8902748"
      },
      "outputs": [],
      "source": []
    }
  ],
  "metadata": {
    "kernelspec": {
      "display_name": "Python 3 (ipykernel)",
      "language": "python",
      "name": "python3"
    },
    "language_info": {
      "codemirror_mode": {
        "name": "ipython",
        "version": 3
      },
      "file_extension": ".py",
      "mimetype": "text/x-python",
      "name": "python",
      "nbconvert_exporter": "python",
      "pygments_lexer": "ipython3",
      "version": "3.11.5"
    },
    "colab": {
      "provenance": []
    }
  },
  "nbformat": 4,
  "nbformat_minor": 5
}